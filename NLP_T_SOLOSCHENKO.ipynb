{
  "nbformat": 4,
  "nbformat_minor": 0,
  "metadata": {
    "colab": {
      "provenance": [],
      "include_colab_link": true
    },
    "kernelspec": {
      "name": "python3",
      "display_name": "Python 3"
    },
    "language_info": {
      "name": "python"
    }
  },
  "cells": [
    {
      "cell_type": "markdown",
      "metadata": {
        "id": "view-in-github",
        "colab_type": "text"
      },
      "source": [
        "<a href=\"https://colab.research.google.com/github/tismol/NLP/blob/main/NLP_T_SOLOSCHENKO.ipynb\" target=\"_parent\"><img src=\"https://colab.research.google.com/assets/colab-badge.svg\" alt=\"Open In Colab\"/></a>"
      ]
    },
    {
      "cell_type": "markdown",
      "source": [
        "# Задача определения частей речи, Part-Of-Speech Tagger (POS) (10 баллов)"
      ],
      "metadata": {
        "id": "ULbCuaDmDczF"
      }
    },
    {
      "cell_type": "markdown",
      "source": [
        "Мы будем решать задачу определения частей речи (POS-теггинга)."
      ],
      "metadata": {
        "id": "PsOJVk-5Di1a"
      }
    },
    {
      "cell_type": "code",
      "execution_count": 1,
      "metadata": {
        "id": "-IjDxsorDY1r"
      },
      "outputs": [],
      "source": [
        "import nltk\n",
        "import pandas as pd\n",
        "import numpy as np\n",
        "from nltk.corpus import brown\n",
        "import matplotlib.pyplot as plt"
      ]
    },
    {
      "cell_type": "markdown",
      "source": [
        "Чтобы решить задание, почитайте http://www.nltk.org/book/"
      ],
      "metadata": {
        "id": "-KROzo8fDmCn"
      }
    },
    {
      "cell_type": "markdown",
      "source": [
        "Загрузим brown корпус"
      ],
      "metadata": {
        "id": "sP3e1DWfDt-5"
      }
    },
    {
      "cell_type": "code",
      "source": [
        "nltk.download('brown')"
      ],
      "metadata": {
        "id": "8dg4QaXXDvd6",
        "outputId": "80b465f0-4150-4d41-ed10-9bfad5082bfe",
        "colab": {
          "base_uri": "https://localhost:8080/"
        }
      },
      "execution_count": 2,
      "outputs": [
        {
          "output_type": "stream",
          "name": "stderr",
          "text": [
            "[nltk_data] Downloading package brown to /root/nltk_data...\n",
            "[nltk_data]   Unzipping corpora/brown.zip.\n"
          ]
        },
        {
          "output_type": "execute_result",
          "data": {
            "text/plain": [
              "True"
            ]
          },
          "metadata": {},
          "execution_count": 2
        }
      ]
    },
    {
      "cell_type": "markdown",
      "source": [
        "<b>Существует не одна система тегирования, поэтому будьте внимательны, когда прогнозируете тег слов в тексте и вычисляете качество прогноза. Можете получить несправедливо низкое качество вашего решения."
      ],
      "metadata": {
        "id": "kAOrp0MODyOu"
      }
    },
    {
      "cell_type": "markdown",
      "source": [
        "Cейчас будем использовать универсальную систему тегирования universal_tagset"
      ],
      "metadata": {
        "id": "bTVtNR_dD1VI"
      }
    },
    {
      "cell_type": "code",
      "source": [
        "nltk.download('universal_tagset')"
      ],
      "metadata": {
        "id": "dvUAKCRZD3bX",
        "outputId": "5c4c86ba-fe03-4821-ce96-8977f380a510",
        "colab": {
          "base_uri": "https://localhost:8080/"
        }
      },
      "execution_count": 3,
      "outputs": [
        {
          "output_type": "stream",
          "name": "stderr",
          "text": [
            "[nltk_data] Downloading package universal_tagset to /root/nltk_data...\n",
            "[nltk_data]   Unzipping taggers/universal_tagset.zip.\n"
          ]
        },
        {
          "output_type": "execute_result",
          "data": {
            "text/plain": [
              "True"
            ]
          },
          "metadata": {},
          "execution_count": 3
        }
      ]
    },
    {
      "cell_type": "markdown",
      "source": [
        "Мы имеем массив предложений пар (слово-тег)"
      ],
      "metadata": {
        "id": "pbZDjq5wD9tr"
      }
    },
    {
      "cell_type": "code",
      "source": [
        "brown_tagged_sents = brown.tagged_sents(tagset=\"universal\")\n",
        "brown_tagged_sents"
      ],
      "metadata": {
        "id": "aawxvOy1D_CR",
        "outputId": "1857b7cc-aa28-4a45-dc53-0e123c2c1b6b",
        "colab": {
          "base_uri": "https://localhost:8080/"
        }
      },
      "execution_count": 4,
      "outputs": [
        {
          "output_type": "execute_result",
          "data": {
            "text/plain": [
              "[[('The', 'DET'), ('Fulton', 'NOUN'), ('County', 'NOUN'), ('Grand', 'ADJ'), ('Jury', 'NOUN'), ('said', 'VERB'), ('Friday', 'NOUN'), ('an', 'DET'), ('investigation', 'NOUN'), ('of', 'ADP'), (\"Atlanta's\", 'NOUN'), ('recent', 'ADJ'), ('primary', 'NOUN'), ('election', 'NOUN'), ('produced', 'VERB'), ('``', '.'), ('no', 'DET'), ('evidence', 'NOUN'), (\"''\", '.'), ('that', 'ADP'), ('any', 'DET'), ('irregularities', 'NOUN'), ('took', 'VERB'), ('place', 'NOUN'), ('.', '.')], [('The', 'DET'), ('jury', 'NOUN'), ('further', 'ADV'), ('said', 'VERB'), ('in', 'ADP'), ('term-end', 'NOUN'), ('presentments', 'NOUN'), ('that', 'ADP'), ('the', 'DET'), ('City', 'NOUN'), ('Executive', 'ADJ'), ('Committee', 'NOUN'), (',', '.'), ('which', 'DET'), ('had', 'VERB'), ('over-all', 'ADJ'), ('charge', 'NOUN'), ('of', 'ADP'), ('the', 'DET'), ('election', 'NOUN'), (',', '.'), ('``', '.'), ('deserves', 'VERB'), ('the', 'DET'), ('praise', 'NOUN'), ('and', 'CONJ'), ('thanks', 'NOUN'), ('of', 'ADP'), ('the', 'DET'), ('City', 'NOUN'), ('of', 'ADP'), ('Atlanta', 'NOUN'), (\"''\", '.'), ('for', 'ADP'), ('the', 'DET'), ('manner', 'NOUN'), ('in', 'ADP'), ('which', 'DET'), ('the', 'DET'), ('election', 'NOUN'), ('was', 'VERB'), ('conducted', 'VERB'), ('.', '.')], ...]"
            ]
          },
          "metadata": {},
          "execution_count": 4
        }
      ]
    },
    {
      "cell_type": "markdown",
      "source": [
        "Первое предложение"
      ],
      "metadata": {
        "id": "vLEzOkB7EBXL"
      }
    },
    {
      "cell_type": "code",
      "source": [
        "brown_tagged_sents[0]"
      ],
      "metadata": {
        "id": "w46umy3rECrj",
        "outputId": "940106ee-9a2d-4303-e790-94f4afe8e87d",
        "colab": {
          "base_uri": "https://localhost:8080/"
        }
      },
      "execution_count": 5,
      "outputs": [
        {
          "output_type": "execute_result",
          "data": {
            "text/plain": [
              "[('The', 'DET'),\n",
              " ('Fulton', 'NOUN'),\n",
              " ('County', 'NOUN'),\n",
              " ('Grand', 'ADJ'),\n",
              " ('Jury', 'NOUN'),\n",
              " ('said', 'VERB'),\n",
              " ('Friday', 'NOUN'),\n",
              " ('an', 'DET'),\n",
              " ('investigation', 'NOUN'),\n",
              " ('of', 'ADP'),\n",
              " (\"Atlanta's\", 'NOUN'),\n",
              " ('recent', 'ADJ'),\n",
              " ('primary', 'NOUN'),\n",
              " ('election', 'NOUN'),\n",
              " ('produced', 'VERB'),\n",
              " ('``', '.'),\n",
              " ('no', 'DET'),\n",
              " ('evidence', 'NOUN'),\n",
              " (\"''\", '.'),\n",
              " ('that', 'ADP'),\n",
              " ('any', 'DET'),\n",
              " ('irregularities', 'NOUN'),\n",
              " ('took', 'VERB'),\n",
              " ('place', 'NOUN'),\n",
              " ('.', '.')]"
            ]
          },
          "metadata": {},
          "execution_count": 5
        }
      ]
    },
    {
      "cell_type": "markdown",
      "source": [
        "Все пары (слово-тег)"
      ],
      "metadata": {
        "id": "n7orRdReEFfC"
      }
    },
    {
      "cell_type": "code",
      "source": [
        "brown_tagged_words = brown.tagged_words(tagset='universal')\n",
        "brown_tagged_words"
      ],
      "metadata": {
        "id": "HTeNfM4UEHEK",
        "outputId": "b55773b6-62b8-4efc-f052-16525c54f67f",
        "colab": {
          "base_uri": "https://localhost:8080/"
        }
      },
      "execution_count": 6,
      "outputs": [
        {
          "output_type": "execute_result",
          "data": {
            "text/plain": [
              "[('The', 'DET'), ('Fulton', 'NOUN'), ...]"
            ]
          },
          "metadata": {},
          "execution_count": 6
        }
      ]
    },
    {
      "cell_type": "markdown",
      "source": [
        "Проанализируйте данные, с которыми Вы работаете. Используйте `nltk.FreqDist()` для подсчета частоты встречаемости тега и слова в нашем корпусе. Под частой элемента подразумевается кол-во этого элемента в корпусе."
      ],
      "metadata": {
        "id": "P65LtzQlEI_R"
      }
    },
    {
      "cell_type": "code",
      "source": [
        "# Приведем слова к нижнему регистру\n",
        "brown_tagged_words = list(map(lambda x: (x[0].lower(), x[1]), brown_tagged_words))"
      ],
      "metadata": {
        "id": "HAGw2PQHEM7P"
      },
      "execution_count": 7,
      "outputs": []
    },
    {
      "cell_type": "code",
      "source": [
        "print('Кол-во предложений: ', len(brown_tagged_sents))\n",
        "tags = [tag for (word, tag) in brown_tagged_words] # наши теги\n",
        "words = [word for (word, tag) in brown_tagged_words] # наши слова\n",
        "\n",
        "tag_num = pd.Series(data = nltk.FreqDist(tags), index = set(tags)).sort_values(ascending=False) # тег - кол-во тега в корпусе\n",
        "word_num = pd.Series(data = nltk.FreqDist(words), index = set(words)).sort_values(ascending=False) # слово - кол-во слова в корпусе"
      ],
      "metadata": {
        "id": "Fj3OCfjbEOIP",
        "outputId": "54473bd1-5770-4bdb-e863-b739c76d8107",
        "colab": {
          "base_uri": "https://localhost:8080/"
        }
      },
      "execution_count": 8,
      "outputs": [
        {
          "output_type": "stream",
          "name": "stdout",
          "text": [
            "Кол-во предложений:  57340\n"
          ]
        }
      ]
    },
    {
      "cell_type": "code",
      "source": [
        "tag_num"
      ],
      "metadata": {
        "id": "3uD-zPn4EPrG",
        "outputId": "8d2187c0-4e02-43aa-a24c-644023fc9430",
        "colab": {
          "base_uri": "https://localhost:8080/"
        }
      },
      "execution_count": 9,
      "outputs": [
        {
          "output_type": "execute_result",
          "data": {
            "text/plain": [
              "NOUN    275558\n",
              "VERB    182750\n",
              ".       147565\n",
              "ADP     144766\n",
              "DET     137019\n",
              "ADJ      83721\n",
              "ADV      56239\n",
              "PRON     49334\n",
              "CONJ     38151\n",
              "PRT      29829\n",
              "NUM      14874\n",
              "X         1386\n",
              "dtype: int64"
            ]
          },
          "metadata": {},
          "execution_count": 9
        }
      ]
    },
    {
      "cell_type": "code",
      "source": [
        "plt.figure(figsize=(12, 5))\n",
        "plt.bar(tag_num.index, tag_num.values)\n",
        "plt.title(\"Tag_frequency\")\n",
        "plt.show()"
      ],
      "metadata": {
        "id": "Dd7DxcmUEQ5g",
        "outputId": "1cf37633-9e80-418a-97dc-70f3438a18b8",
        "colab": {
          "base_uri": "https://localhost:8080/",
          "height": 468
        }
      },
      "execution_count": 10,
      "outputs": [
        {
          "output_type": "display_data",
          "data": {
            "text/plain": [
              "<Figure size 1200x500 with 1 Axes>"
            ],
            "image/png": "[encoded data removed]"
          },
          "metadata": {}
        }
      ]
    },
    {
      "cell_type": "code",
      "source": [
        "word_num[:5]"
      ],
      "metadata": {
        "id": "S0AbxAS3ESX2",
        "outputId": "f9a79153-f251-4933-f6f9-205944b3a0bd",
        "colab": {
          "base_uri": "https://localhost:8080/"
        }
      },
      "execution_count": 11,
      "outputs": [
        {
          "output_type": "execute_result",
          "data": {
            "text/plain": [
              "the    69971\n",
              ",      58334\n",
              ".      49346\n",
              "of     36412\n",
              "and    28853\n",
              "dtype: int64"
            ]
          },
          "metadata": {},
          "execution_count": 11
        }
      ]
    },
    {
      "cell_type": "code",
      "source": [
        "plt.figure(figsize=(12, 5))\n",
        "plt.bar(word_num.index[:10], word_num.values[:10])\n",
        "plt.title(\"Word_frequency\")\n",
        "plt.show()"
      ],
      "metadata": {
        "id": "z8qjrT_tETb_",
        "outputId": "31865d8e-c6bf-4193-8963-98796f62eab6",
        "colab": {
          "base_uri": "https://localhost:8080/",
          "height": 468
        }
      },
      "execution_count": 12,
      "outputs": [
        {
          "output_type": "display_data",
          "data": {
            "text/plain": [
              "<Figure size 1200x500 with 1 Axes>"
            ],
            "image/png": "[encoded data removed]"
          },
          "metadata": {}
        }
      ]
    },
    {
      "cell_type": "markdown",
      "source": [
        "### Вопрос 1:\n",
        "* Кол-во слова `cat` в корпусе? **(0.5 балл)**"
      ],
      "metadata": {
        "id": "O994VhA_EMfj"
      }
    },
    {
      "cell_type": "code",
      "source": [
        "word_num['cat']"
      ],
      "metadata": {
        "id": "uEc4ehy8EXMp",
        "outputId": "aacd457f-ab1d-4c5d-c6e0-2f599f8f2978",
        "colab": {
          "base_uri": "https://localhost:8080/"
        }
      },
      "execution_count": 13,
      "outputs": [
        {
          "output_type": "execute_result",
          "data": {
            "text/plain": [
              "23"
            ]
          },
          "metadata": {},
          "execution_count": 13
        }
      ]
    },
    {
      "cell_type": "markdown",
      "source": [
        "### Вопрос 2:\n",
        "* Самое популярное слово с самым популярным тегом? **(0.5 балл)**\n"
      ],
      "metadata": {
        "id": "zo0d6XF0EY6X"
      }
    },
    {
      "cell_type": "code",
      "source": [
        "# Выбираем сначала слова с самым популярным тегом, а затем среди них выбираем самое популярное слово.\n",
        "words_with_the_most_popular_tag = [word for (word,tag) in brown_tagged_words if tag == tag_num.index[0]]\n",
        "noun_num= pd.Series(data = nltk.FreqDist(words_with_the_most_popular_tag), index = set(words_with_the_most_popular_tag)).sort_values(ascending=False)\n",
        "print(noun_num.index[0],noun_num[0])\n",
        "noun_num"
      ],
      "metadata": {
        "id": "VrlyXIqVEdDp",
        "outputId": "bc93ad9f-7777-4766-fc69-5b3db9064419",
        "colab": {
          "base_uri": "https://localhost:8080/"
        }
      },
      "execution_count": 14,
      "outputs": [
        {
          "output_type": "stream",
          "name": "stdout",
          "text": [
            "time 1597\n"
          ]
        },
        {
          "output_type": "execute_result",
          "data": {
            "text/plain": [
              "time            1597\n",
              "man             1203\n",
              "af               995\n",
              "years            949\n",
              "way              899\n",
              "                ... \n",
              "hickok             1\n",
              "growths            1\n",
              "provenance         1\n",
              "corona             1\n",
              "francoisette       1\n",
              "Length: 30246, dtype: int64"
            ]
          },
          "metadata": {},
          "execution_count": 14
        }
      ]
    },
    {
      "cell_type": "markdown",
      "source": [
        "Cделайте разбиение выборки на обучение и контроль в отношении 9:1. **(0.5 балл)**"
      ],
      "metadata": {
        "id": "NACQZOnfEbrU"
      }
    },
    {
      "cell_type": "code",
      "source": [
        "brown_tagged_sents = brown.tagged_sents(tagset=\"universal\")\n",
        "# Приведем слова к нижнему регистру\n",
        "my_brown_tagged_sents = []\n",
        "for sent in brown_tagged_sents:\n",
        "    my_brown_tagged_sents.append(list(map(lambda x: (x[0].lower(), x[1]), sent)))\n",
        "my_brown_tagged_sents = np.array(my_brown_tagged_sents)\n",
        "\n",
        "from sklearn.model_selection import train_test_split\n",
        "train_sents, test_sents = train_test_split(my_brown_tagged_sents,test_size = 0.1, random_state=0,)"
      ],
      "metadata": {
        "id": "BbM3Ik2mEiJs",
        "outputId": "848bed34-adcc-433c-ef6e-8d2273c17b76",
        "colab": {
          "base_uri": "https://localhost:8080/"
        }
      },
      "execution_count": 15,
      "outputs": [
        {
          "output_type": "stream",
          "name": "stderr",
          "text": [
            "<ipython-input-15-68ad0465fbf1>:6: VisibleDeprecationWarning: Creating an ndarray from ragged nested sequences (which is a list-or-tuple of lists-or-tuples-or ndarrays with different lengths or shapes) is deprecated. If you meant to do this, you must specify 'dtype=object' when creating the ndarray.\n",
            "  my_brown_tagged_sents = np.array(my_brown_tagged_sents)\n"
          ]
        }
      ]
    },
    {
      "cell_type": "code",
      "source": [
        "len(train_sents), len(test_sents)"
      ],
      "metadata": {
        "id": "z98sY1k5EjpZ",
        "outputId": "39cf0237-e3a4-4dc5-9586-771fe4e58293",
        "colab": {
          "base_uri": "https://localhost:8080/"
        }
      },
      "execution_count": 16,
      "outputs": [
        {
          "output_type": "execute_result",
          "data": {
            "text/plain": [
              "(51606, 5734)"
            ]
          },
          "metadata": {},
          "execution_count": 16
        }
      ]
    },
    {
      "cell_type": "markdown",
      "source": [
        "## DefaultTagger"
      ],
      "metadata": {
        "id": "MKvUkYYmEmWl"
      }
    },
    {
      "cell_type": "markdown",
      "source": [
        "### Вопрос 3:\n",
        "* Какое качество вы бы получили, если бы предсказывали любой тег, как самый популярный тег на выборке train(округлите до одного знака после запятой)? **(0.5 балл)**"
      ],
      "metadata": {
        "id": "lmddv5oBEoAu"
      }
    },
    {
      "cell_type": "markdown",
      "source": [
        "Вы можете использовать DefaultTagger(метод tag для предсказания частей речи предложения)."
      ],
      "metadata": {
        "id": "rzpMy0pnEqdm"
      }
    },
    {
      "cell_type": "code",
      "source": [
        "from nltk.tag import DefaultTagger\n",
        "default_tagger = DefaultTagger(tag_num.index[0])"
      ],
      "metadata": {
        "id": "F-N1FQ4OEroJ"
      },
      "execution_count": 17,
      "outputs": []
    },
    {
      "cell_type": "code",
      "source": [
        "true_pred = 0\n",
        "num_pred = 0\n",
        "\n",
        "for sent in test_sents:\n",
        "    tags = np.array([tag for (word, tag) in sent])\n",
        "    words = np.array([word for (word, tag) in sent])\n",
        "\n",
        "    tagged_sent = default_tagger.tag(words)\n",
        "    outputs = [tag for token, tag in tagged_sent]\n",
        "    true_pred += len([word for (word,tag) in sent if tag == tag_num.index[0]])\n",
        "    num_pred += len(words)\n",
        "\n",
        "print(\"Accuracy:\", true_pred / num_pred * 100, '%')"
      ],
      "metadata": {
        "id": "cic19b1GEsju",
        "outputId": "a93177a8-e58a-41f7-b410-c9c2919a035b",
        "colab": {
          "base_uri": "https://localhost:8080/"
        }
      },
      "execution_count": 18,
      "outputs": [
        {
          "output_type": "stream",
          "name": "stdout",
          "text": [
            "Accuracy: 23.47521651004238 %\n"
          ]
        }
      ]
    },
    {
      "cell_type": "markdown",
      "source": [
        "## LSTMTagger"
      ],
      "metadata": {
        "id": "qCeRNR9YEuoc"
      }
    },
    {
      "cell_type": "markdown",
      "source": [
        "### Подготовка данных"
      ],
      "metadata": {
        "id": "3MnP45S9EwhJ"
      }
    },
    {
      "cell_type": "markdown",
      "source": [
        "Изменим структуру данных"
      ],
      "metadata": {
        "id": "y26dX5UfEyB8"
      }
    },
    {
      "cell_type": "code",
      "source": [
        "pos_data = [list(zip(*sent)) for sent in brown_tagged_sents]\n",
        "print(pos_data[0])"
      ],
      "metadata": {
        "id": "0G_svM_vEzNd",
        "outputId": "e518c857-f8f5-46e8-89cb-0b29b9d4f6c6",
        "colab": {
          "base_uri": "https://localhost:8080/"
        }
      },
      "execution_count": 19,
      "outputs": [
        {
          "output_type": "stream",
          "name": "stdout",
          "text": [
            "[('The', 'Fulton', 'County', 'Grand', 'Jury', 'said', 'Friday', 'an', 'investigation', 'of', \"Atlanta's\", 'recent', 'primary', 'election', 'produced', '``', 'no', 'evidence', \"''\", 'that', 'any', 'irregularities', 'took', 'place', '.'), ('DET', 'NOUN', 'NOUN', 'ADJ', 'NOUN', 'VERB', 'NOUN', 'DET', 'NOUN', 'ADP', 'NOUN', 'ADJ', 'NOUN', 'NOUN', 'VERB', '.', 'DET', 'NOUN', '.', 'ADP', 'DET', 'NOUN', 'VERB', 'NOUN', '.')]\n"
          ]
        }
      ]
    },
    {
      "cell_type": "markdown",
      "source": [
        "Используем pytorch"
      ],
      "metadata": {
        "id": "edtdfyMOE0s7"
      }
    },
    {
      "cell_type": "code",
      "source": [
        "!pip install torchtext==0.6.0"
      ],
      "metadata": {
        "id": "zYulgrZhqdrc",
        "outputId": "af4e36d5-e151-42f1-a3f7-24195a8ea7bc",
        "colab": {
          "base_uri": "https://localhost:8080/"
        }
      },
      "execution_count": 20,
      "outputs": [
        {
          "output_type": "stream",
          "name": "stdout",
          "text": [
            "Collecting torchtext==0.6.0\n",
            "  Downloading torchtext-0.6.0-py3-none-any.whl (64 kB)\n",
            "\u001b[?25l     \u001b[90m━━━━━━━━━━━━━━━━━━━━━━━━━━━━━━━━━━━━━━━━\u001b[0m \u001b[32m0.0/64.2 kB\u001b[0m \u001b[31m?\u001b[0m eta \u001b[36m-:--:--\u001b[0m\r\u001b[2K     \u001b[91m━━━━━━━━━━━━━━━━━━━━━━━━━━━━━━━━━━━━━━\u001b[0m\u001b[90m╺\u001b[0m\u001b[90m━\u001b[0m \u001b[32m61.4/64.2 kB\u001b[0m \u001b[31m1.9 MB/s\u001b[0m eta \u001b[36m0:00:01\u001b[0m\r\u001b[2K     \u001b[90m━━━━━━━━━━━━━━━━━━━━━━━━━━━━━━━━━━━━━━━━\u001b[0m \u001b[32m64.2/64.2 kB\u001b[0m \u001b[31m1.5 MB/s\u001b[0m eta \u001b[36m0:00:00\u001b[0m\n",
            "\u001b[?25hRequirement already satisfied: tqdm in /usr/local/lib/python3.10/dist-packages (from torchtext==0.6.0) (4.66.1)\n",
            "Requirement already satisfied: requests in /usr/local/lib/python3.10/dist-packages (from torchtext==0.6.0) (2.31.0)\n",
            "Requirement already satisfied: torch in /usr/local/lib/python3.10/dist-packages (from torchtext==0.6.0) (2.0.1+cu118)\n",
            "Requirement already satisfied: numpy in /usr/local/lib/python3.10/dist-packages (from torchtext==0.6.0) (1.23.5)\n",
            "Requirement already satisfied: six in /usr/local/lib/python3.10/dist-packages (from torchtext==0.6.0) (1.16.0)\n",
            "Collecting sentencepiece (from torchtext==0.6.0)\n",
            "  Downloading sentencepiece-0.1.99-cp310-cp310-manylinux_2_17_x86_64.manylinux2014_x86_64.whl (1.3 MB)\n",
            "\u001b[2K     \u001b[90m━━━━━━━━━━━━━━━━━━━━━━━━━━━━━━━━━━━━━━━━\u001b[0m \u001b[32m1.3/1.3 MB\u001b[0m \u001b[31m7.0 MB/s\u001b[0m eta \u001b[36m0:00:00\u001b[0m\n",
            "\u001b[?25hRequirement already satisfied: charset-normalizer<4,>=2 in /usr/local/lib/python3.10/dist-packages (from requests->torchtext==0.6.0) (3.2.0)\n",
            "Requirement already satisfied: idna<4,>=2.5 in /usr/local/lib/python3.10/dist-packages (from requests->torchtext==0.6.0) (3.4)\n",
            "Requirement already satisfied: urllib3<3,>=1.21.1 in /usr/local/lib/python3.10/dist-packages (from requests->torchtext==0.6.0) (2.0.4)\n",
            "Requirement already satisfied: certifi>=2017.4.17 in /usr/local/lib/python3.10/dist-packages (from requests->torchtext==0.6.0) (2023.7.22)\n",
            "Requirement already satisfied: filelock in /usr/local/lib/python3.10/dist-packages (from torch->torchtext==0.6.0) (3.12.2)\n",
            "Requirement already satisfied: typing-extensions in /usr/local/lib/python3.10/dist-packages (from torch->torchtext==0.6.0) (4.7.1)\n",
            "Requirement already satisfied: sympy in /usr/local/lib/python3.10/dist-packages (from torch->torchtext==0.6.0) (1.12)\n",
            "Requirement already satisfied: networkx in /usr/local/lib/python3.10/dist-packages (from torch->torchtext==0.6.0) (3.1)\n",
            "Requirement already satisfied: jinja2 in /usr/local/lib/python3.10/dist-packages (from torch->torchtext==0.6.0) (3.1.2)\n",
            "Requirement already satisfied: triton==2.0.0 in /usr/local/lib/python3.10/dist-packages (from torch->torchtext==0.6.0) (2.0.0)\n",
            "Requirement already satisfied: cmake in /usr/local/lib/python3.10/dist-packages (from triton==2.0.0->torch->torchtext==0.6.0) (3.27.2)\n",
            "Requirement already satisfied: lit in /usr/local/lib/python3.10/dist-packages (from triton==2.0.0->torch->torchtext==0.6.0) (16.0.6)\n",
            "Requirement already satisfied: MarkupSafe>=2.0 in /usr/local/lib/python3.10/dist-packages (from jinja2->torch->torchtext==0.6.0) (2.1.3)\n",
            "Requirement already satisfied: mpmath>=0.19 in /usr/local/lib/python3.10/dist-packages (from sympy->torch->torchtext==0.6.0) (1.3.0)\n",
            "Installing collected packages: sentencepiece, torchtext\n",
            "  Attempting uninstall: torchtext\n",
            "    Found existing installation: torchtext 0.15.2\n",
            "    Uninstalling torchtext-0.15.2:\n",
            "      Successfully uninstalled torchtext-0.15.2\n",
            "Successfully installed sentencepiece-0.1.99 torchtext-0.6.0\n"
          ]
        }
      ]
    },
    {
      "cell_type": "code",
      "source": [
        "from torchtext.data import Field, BucketIterator\n",
        "import torchtext\n",
        "# наши поля\n",
        "WORD = Field(lower=True)\n",
        "TAG = Field(unk_token=None) # все токены нам извсетны\n",
        "\n",
        "# создаем примеры\n",
        "examples = []\n",
        "for words, tags in pos_data:\n",
        "    examples.append(torchtext.data.Example.fromlist([list(words), list(tags)], fields=[('words', WORD), ('tags', TAG)]))"
      ],
      "metadata": {
        "id": "lse6eIF8E3jT"
      },
      "execution_count": 21,
      "outputs": []
    },
    {
      "cell_type": "markdown",
      "source": [
        "Вот один пример:"
      ],
      "metadata": {
        "id": "kaWj9v1KE6fN"
      }
    },
    {
      "cell_type": "code",
      "source": [
        "print(vars(examples[0]))"
      ],
      "metadata": {
        "id": "4U-j12pUE8Gw",
        "outputId": "8deb7e20-2dc0-4dbe-f943-9a3a9419128c",
        "colab": {
          "base_uri": "https://localhost:8080/"
        }
      },
      "execution_count": 22,
      "outputs": [
        {
          "output_type": "stream",
          "name": "stdout",
          "text": [
            "{'words': ['the', 'fulton', 'county', 'grand', 'jury', 'said', 'friday', 'an', 'investigation', 'of', \"atlanta's\", 'recent', 'primary', 'election', 'produced', '``', 'no', 'evidence', \"''\", 'that', 'any', 'irregularities', 'took', 'place', '.'], 'tags': ['DET', 'NOUN', 'NOUN', 'ADJ', 'NOUN', 'VERB', 'NOUN', 'DET', 'NOUN', 'ADP', 'NOUN', 'ADJ', 'NOUN', 'NOUN', 'VERB', '.', 'DET', 'NOUN', '.', 'ADP', 'DET', 'NOUN', 'VERB', 'NOUN', '.']}\n"
          ]
        }
      ]
    },
    {
      "cell_type": "markdown",
      "source": [
        "Теперь формируем наш датасет"
      ],
      "metadata": {
        "id": "ql_rxZ2hE-NQ"
      }
    },
    {
      "cell_type": "code",
      "source": [
        "# кладем примеры в наш датасет\n",
        "dataset = torchtext.data.Dataset(examples, fields=[('words', WORD), ('tags', TAG)])\n",
        "\n",
        "train_data, valid_data, test_data = dataset.split(split_ratio=[0.8, 0.1, 0.1])\n",
        "\n",
        "print(f\"Number of training examples: {len(train_data.examples)}\")\n",
        "print(f\"Number of validation examples: {len(valid_data.examples)}\")\n",
        "print(f\"Number of testing examples: {len(test_data.examples)}\")\n"
      ],
      "metadata": {
        "id": "oSz26JmFE_fp",
        "outputId": "b27834bb-4c47-4672-e8cc-79db41fb4020",
        "colab": {
          "base_uri": "https://localhost:8080/"
        }
      },
      "execution_count": 23,
      "outputs": [
        {
          "output_type": "stream",
          "name": "stdout",
          "text": [
            "Number of training examples: 45872\n",
            "Number of validation examples: 5734\n",
            "Number of testing examples: 5734\n"
          ]
        }
      ]
    },
    {
      "cell_type": "markdown",
      "source": [
        "Построим словари. Параметр `min_freq` выберете сами. При построении словаря испольузем только **train** **(0.5 балл)**"
      ],
      "metadata": {
        "id": "tDIU85xhFBkk"
      }
    },
    {
      "cell_type": "code",
      "source": [
        "WORD.build_vocab(train_data, min_freq=0)\n",
        "TAG.build_vocab(train_data)\n",
        "\n",
        "print(f\"Unique tokens in source (ru) vocabulary: {len(WORD.vocab)}\")\n",
        "print(f\"Unique tokens in target (en) vocabulary: {len(TAG.vocab)}\")\n",
        "\n",
        "print(WORD.vocab.itos[::200])\n",
        "print(TAG.vocab.itos)"
      ],
      "metadata": {
        "id": "v7y86zb_FDLy",
        "outputId": "53c7f1d0-bf7a-44ab-8e01-e60a01942419",
        "colab": {
          "base_uri": "https://localhost:8080/"
        }
      },
      "execution_count": 24,
      "outputs": [
        {
          "output_type": "stream",
          "name": "stdout",
          "text": [
            "Unique tokens in source (ru) vocabulary: 45181\n",
            "Unique tokens in target (en) vocabulary: 13\n",
            "['<unk>', 'always', 'love', 'actually', 'anyone', 'language', 'follow', 't', 'newspaper', 'belief', 'roman', 'mail', 'brush', 'cup', 'represents', 'coating', 'democrats', 'buying', 'supporting', 'invited', 'select', 'blues', 'complement', 'builders', 'wishes', 'speaks', 'likes', 'connecticut', 'simpler', 'i.', 'amid', 'mythological', 'beverly', 'irenaeus', 'two-thirds', 'expectation', 'romance', 'burial', 'inquirer', 'screens', 'blades', 'ghost', 'prosecution', 'yin', 'constructing', 'hideous', 'preached', 'sullen', 'artificially', 'costing', 'grasslands', 'mccormick', 'releases', 'titan', 'apples', 'clambered', 'echoed', 'hazardous', 'mao', 'poisonous', 'sipping', 'uranium', 'airfield', 'bruce', 'damaged', 'evoke', 'growl', 'jointly', 'mystical', 'pretended', 'schemes', \"sunday's\", 'veritable', '420', 'assimilated', 'broun', 'comb', 'dating', \"eileen's\", 'fooling', 'harping', 'intensities', 'lingering', 'molten', 'overload', 'probed', 'restful', 'shouldered', 'stony', 'torsos', 'vinyl', '121', 'aab/', 'anglicans', 'barricades', 'bonus', 'camaraderie', 'clatter', 'consummate', 'deadliness', 'dishonest', 'embargo', 'faltered', 'forthrightness', 'governess', 'helpers', 'immensity', 'irresponsibility', \"lawyer's\", 'maggots', 'ministered', 'nesting', 'ornamented', 'perforce', 'preconditioned', 'rap', 'revert', 'scorned', 'skeet', 'starter', 'syndicated', 'topgallant', 'unpredictably', 'weddings', '$1.9', '-16-degrees', '15-to-one', '1976', '3-10', '5-passenger', '817', 'acquiesence', \"aid's\", 'amorous', 'appalachian', 'aspencade', 'babin-festival', 'bauhaus', 'besieged', 'blockhouse', 'bosch', 'brochure', 'buss', 'capped', 'cellars', 'chomp', 'closeups', 'cometh', 'consort', 'counterbalancing', 'crunched', 'data-handling', 'demoted', 'dilemmas', 'divining', 'droop', \"egotist's\", \"engine's\", 'evaporated', 'eyke', 'fenugreek', 'flanagan', 'forging', 'fruitlessly', 'geddes', 'gnomon', 'grimesby', 'half-forgotten', 'hatters', 'hewett', 'hopei', 'icelandic-speaking', 'inconsistency', 'instigation', 'irresolvable', \"jorda's\", 'kindled', 'laments', 'leguminous', 'littau', 'lucretius', 'malmros', 'mavericks', 'metalsmiths', 'missive', 'mounded', 'napkin', 'nike-zeus', 'nostradamus', 'old-timer', 'outgrowth', 'pancho', 'peacock', 'phloem', 'plazek', 'potlatches', 'primitive-eclogue', 'pulsed', 'raging', 'recherches', 'relyriced', 'reversibility', \"roofer's\", 'sagebrush', 'scholastically', 'self-criticism', 'shareholder', 'signor', 'slipstream', 'sombre', 'spouse', 'stiffer', 'subpenaed', 'swearinge', 'tasti-freeze', \"theon's\", 'timon', 'trans-illumination', 'tulln', 'uncoiling', 'unpatriotic', 'vainly', 'vitiated', 'wavy', 'widens', 'wrenching']\n",
            "['<pad>', 'NOUN', 'VERB', '.', 'ADP', 'DET', 'ADJ', 'ADV', 'PRON', 'CONJ', 'PRT', 'NUM', 'X']\n"
          ]
        }
      ]
    },
    {
      "cell_type": "markdown",
      "source": [
        "Здесь вы увидете токен `unk` и `pad`. Первый служит для обозначения слов, которых у нас нет в словаре. Второй служит для того, что объекты в одном батче были одинакового размера."
      ],
      "metadata": {
        "id": "wWHHpg7ZFFBy"
      }
    },
    {
      "cell_type": "code",
      "source": [
        "print(vars(train_data.examples[9]))"
      ],
      "metadata": {
        "id": "da-NJsDZFG5R",
        "outputId": "df79242d-8766-4cbc-a772-24b6e809a35f",
        "colab": {
          "base_uri": "https://localhost:8080/"
        }
      },
      "execution_count": 25,
      "outputs": [
        {
          "output_type": "stream",
          "name": "stdout",
          "text": [
            "{'words': ['in', 'spite', 'of', 'the', 'disaster', ',', 'wright', 'completed', 'during', 'this', 'period', 'plans', 'for', 'the', 'lake', 'tahoe', 'resort', ',', 'in', 'which', 'he', 'suggested', 'the', 'shapes', 'of', 'american', 'indian', 'tepees', '--', 'a', 'project', 'of', 'great', 'and', 'appropriate', 'charm', ',', 'that', 'came', 'to', 'nothing', '.'], 'tags': ['ADP', 'NOUN', 'ADP', 'DET', 'NOUN', '.', 'NOUN', 'VERB', 'ADP', 'DET', 'NOUN', 'NOUN', 'ADP', 'DET', 'NOUN', 'NOUN', 'NOUN', '.', 'ADP', 'DET', 'PRON', 'VERB', 'DET', 'NOUN', 'ADP', 'ADJ', 'ADJ', 'NOUN', '.', 'DET', 'NOUN', 'ADP', 'ADJ', 'CONJ', 'ADJ', 'NOUN', '.', 'DET', 'VERB', 'ADP', 'NOUN', '.']}\n"
          ]
        }
      ]
    },
    {
      "cell_type": "markdown",
      "source": [
        "Посмотрим с насколько большими предложениями мы имеем дело"
      ],
      "metadata": {
        "id": "9lFhuFSxFGjG"
      }
    },
    {
      "cell_type": "code",
      "source": [
        "length = map(len, [vars(x)['words'] for x in train_data.examples])\n",
        "\n",
        "plt.figure(figsize=[8, 4])\n",
        "plt.title(\"Length distribution in Train data\")\n",
        "plt.hist(list(length), bins=20);"
      ],
      "metadata": {
        "id": "SZ_MoUU-FKFZ",
        "outputId": "89ff05e5-5262-4ab9-bddb-833e79005bb7",
        "colab": {
          "base_uri": "https://localhost:8080/",
          "height": 391
        }
      },
      "execution_count": 26,
      "outputs": [
        {
          "output_type": "display_data",
          "data": {
            "text/plain": [
              "<Figure size 800x400 with 1 Axes>"
            ],
            "image/png": "[encoded data removed]"
          },
          "metadata": {}
        }
      ]
    },
    {
      "cell_type": "markdown",
      "source": [
        "Для обучения `LSTM` лучше использовать colab"
      ],
      "metadata": {
        "id": "fXGyfB3CFMj1"
      }
    },
    {
      "cell_type": "code",
      "source": [
        "import torch\n",
        "from torch import nn\n",
        "import torch.nn.functional as F\n",
        "import torch.optim as optim\n",
        "\n",
        "device = torch.device('cuda' if torch.cuda.is_available() else 'cpu')\n",
        "device"
      ],
      "metadata": {
        "id": "h4s5pvntFN2B",
        "outputId": "7d96925c-ae80-42a9-c1db-09abf0555543",
        "colab": {
          "base_uri": "https://localhost:8080/"
        }
      },
      "execution_count": 30,
      "outputs": [
        {
          "output_type": "execute_result",
          "data": {
            "text/plain": [
              "device(type='cpu')"
            ]
          },
          "metadata": {},
          "execution_count": 30
        }
      ]
    },
    {
      "cell_type": "markdown",
      "source": [
        "Для более быстрого и устойчивого обучения сгруппируем наши данные по батчам"
      ],
      "metadata": {
        "id": "IBGcryIOFPUm"
      }
    },
    {
      "cell_type": "code",
      "source": [
        "# бьем нашу выборку на батч, не забывая сначала отсортировать выборку по длине\n",
        "def _len_sort_key(x):\n",
        "    return len(x.words)\n",
        "\n",
        "BATCH_SIZE = 32\n",
        "\n",
        "train_iterator, valid_iterator, test_iterator = BucketIterator.splits(\n",
        "    (train_data, valid_data, test_data),\n",
        "    batch_size = BATCH_SIZE,\n",
        "    device = device,\n",
        "    sort_key=_len_sort_key\n",
        ")"
      ],
      "metadata": {
        "id": "WoG31J9LFRPM"
      },
      "execution_count": 34,
      "outputs": []
    },
    {
      "cell_type": "code",
      "source": [
        "# посморим  на количество батчей\n",
        "list(map(len, [train_iterator, valid_iterator, test_iterator]))"
      ],
      "metadata": {
        "id": "d8sS_kx-FScv",
        "outputId": "e53c82c2-3679-4928-b8b5-0cb09cd8e603",
        "colab": {
          "base_uri": "https://localhost:8080/"
        }
      },
      "execution_count": 35,
      "outputs": [
        {
          "output_type": "execute_result",
          "data": {
            "text/plain": [
              "[1434, 180, 180]"
            ]
          },
          "metadata": {},
          "execution_count": 35
        }
      ]
    },
    {
      "cell_type": "markdown",
      "source": [
        "### Модель и её обучение"
      ],
      "metadata": {
        "id": "Fh9IjTSXFUYa"
      }
    },
    {
      "cell_type": "markdown",
      "source": [
        "Инициализируем нашу модель. Прочитайте про dropout [тут](https://habr.com/ru/company/wunderfund/blog/330814/). **(3 балла)**"
      ],
      "metadata": {
        "id": "TOCW_kx4FWrD"
      }
    },
    {
      "cell_type": "code",
      "source": [
        "class LSTMTagger(nn.Module):\n",
        "\n",
        "    def __init__(self, input_dim, emb_dim, hid_dim, output_dim, dropout):\n",
        "        super().__init__()\n",
        "\n",
        "\n",
        "        self.embeddings = nn.Embedding(input_dim, emb_dim)\n",
        "        self.dropout = nn.Dropout(p=dropout)\n",
        "\n",
        "        self.rnn = nn.LSTM(emb_dim, hid_dim)\n",
        "        self.tag = nn.Linear(hid_dim, output_dim)\n",
        "\n",
        "    def forward(self, sent):\n",
        "\n",
        "        #sent = [sent len, batch size]\n",
        "\n",
        "        # не забываем применить dropout к embedding\n",
        "        embedded = self.dropout(self.embeddings(sent))\n",
        "\n",
        "        output, _ = self.rnn(embedded)\n",
        "        #output = [sent len, batch size, hid dim * n directions]\n",
        "\n",
        "        prediction = self.tag(output)\n",
        "\n",
        "        return prediction\n",
        "\n",
        "# параметры модели\n",
        "INPUT_DIM = len(WORD.vocab)\n",
        "OUTPUT_DIM = len(TAG.vocab)\n",
        "EMB_DIM = 100\n",
        "HID_DIM = 128\n",
        "DROPOUT = 0.5\n",
        "\n",
        "model = LSTMTagger(INPUT_DIM, EMB_DIM,HID_DIM,OUTPUT_DIM,DROPOUT).to(device)\n",
        "\n",
        "# инициализируем веса\n",
        "def init_weights(m):\n",
        "    for name, param in m.named_parameters():\n",
        "        nn.init.uniform_(param, -0.08, 0.08)\n",
        "\n",
        "model.apply(init_weights)"
      ],
      "metadata": {
        "id": "2AOdspvVFbNI",
        "outputId": "b1942044-32db-4566-a289-bfd14b0a7751",
        "colab": {
          "base_uri": "https://localhost:8080/"
        }
      },
      "execution_count": 36,
      "outputs": [
        {
          "output_type": "execute_result",
          "data": {
            "text/plain": [
              "LSTMTagger(\n",
              "  (embeddings): Embedding(45181, 100)\n",
              "  (dropout): Dropout(p=0.5, inplace=False)\n",
              "  (rnn): LSTM(100, 128)\n",
              "  (tag): Linear(in_features=128, out_features=13, bias=True)\n",
              ")"
            ]
          },
          "metadata": {},
          "execution_count": 36
        }
      ]
    },
    {
      "cell_type": "markdown",
      "source": [
        "Подсчитаем количество обучаемых параметров нашей модели. Используйте метод `numel()`. **(1 балл)**"
      ],
      "metadata": {
        "id": "40LeJJkuFgXj"
      }
    },
    {
      "cell_type": "code",
      "source": [
        "def count_parameters(model):\n",
        "    return sum(p.numel() for p in model.parameters() if p.requires_grad)\n",
        "\n",
        "print(f'The model has {count_parameters(model):,} trainable parameters')"
      ],
      "metadata": {
        "id": "r3I1u6PnFeMN",
        "outputId": "9777b8a7-919b-4371-9b7b-d4cad84fb331",
        "colab": {
          "base_uri": "https://localhost:8080/"
        }
      },
      "execution_count": 37,
      "outputs": [
        {
          "output_type": "stream",
          "name": "stdout",
          "text": [
            "The model has 4,637,537 trainable parameters\n"
          ]
        }
      ]
    },
    {
      "cell_type": "markdown",
      "source": [
        "Погнали обучать **(2 балла)**"
      ],
      "metadata": {
        "id": "YzBhHJbIFiF1"
      }
    },
    {
      "cell_type": "code",
      "source": [
        "PAD_IDX = TAG.vocab.stoi['<pad>']\n",
        "optimizer = optim.Adam(model.parameters())\n",
        "criterion = nn.CrossEntropyLoss(ignore_index = PAD_IDX)\n",
        "\n",
        "def train(model, iterator, optimizer, criterion, clip, train_history=None, valid_history=None):\n",
        "    model.train()\n",
        "\n",
        "    epoch_loss = 0\n",
        "    history = []\n",
        "    for i, batch in enumerate(iterator):\n",
        "\n",
        "        words = batch.words\n",
        "        tags = batch.tags\n",
        "\n",
        "        optimizer.zero_grad()\n",
        "\n",
        "        output = model(words)\n",
        "\n",
        "        #tags = [sent len, batch size]\n",
        "        #output = [sent len, batch size, output dim]\n",
        "\n",
        "        output = output.view(-1, output.shape[-1])\n",
        "        tags = tags.view(-1)\n",
        "\n",
        "\n",
        "        #tags = [sent len * batch size]\n",
        "        #output = [sent len * batch size, output dim]\n",
        "\n",
        "        loss = criterion(output, tags)\n",
        "\n",
        "        loss.backward()\n",
        "\n",
        "        # Gradient clipping(решение проблемы взрыва граденты), clip - максимальная норма вектора\n",
        "        torch.nn.utils.clip_grad_norm_(model.parameters(), max_norm=clip)\n",
        "\n",
        "        optimizer.step()\n",
        "\n",
        "        epoch_loss += loss.item()\n",
        "\n",
        "        history.append(loss.cpu().data.numpy())\n",
        "        if (i+1)%10==0:\n",
        "            fig, ax = plt.subplots(nrows=1, ncols=2, figsize=(12, 8))\n",
        "\n",
        "            clear_output(True)\n",
        "            ax[0].plot(history, label='train loss')\n",
        "            ax[0].set_xlabel('Batch')\n",
        "            ax[0].set_title('Train loss')\n",
        "\n",
        "            if train_history is not None:\n",
        "                ax[1].plot(train_history, label='general train history')\n",
        "                ax[1].set_xlabel('Epoch')\n",
        "            if valid_history is not None:\n",
        "                ax[1].plot(valid_history, label='general valid history')\n",
        "            plt.legend()\n",
        "\n",
        "            plt.show()\n",
        "\n",
        "\n",
        "    return epoch_loss / len(iterator)\n",
        "\n",
        "def evaluate(model, iterator, criterion):\n",
        "    model.eval()\n",
        "\n",
        "    epoch_loss = 0\n",
        "\n",
        "    history = []\n",
        "\n",
        "    with torch.no_grad():\n",
        "\n",
        "        for i, batch in enumerate(iterator):\n",
        "\n",
        "            words = batch.words\n",
        "            tags = batch.tags\n",
        "\n",
        "            output = model(words)\n",
        "\n",
        "            #tags = [sent len, batch size]\n",
        "            #output = [sent len, batch size, output dim]\n",
        "\n",
        "            output = output.view(-1, output.shape[-1])\n",
        "            tags = tags.view(-1)\n",
        "\n",
        "            #tags = [sent len * batch size]\n",
        "            #output = [sent len * batch size, output dim]\n",
        "\n",
        "            loss = criterion(output, tags)\n",
        "\n",
        "\n",
        "            epoch_loss += loss.item()\n",
        "\n",
        "    return epoch_loss / len(iterator)\n",
        "\n",
        "def epoch_time(start_time, end_time):\n",
        "    elapsed_time = end_time - start_time\n",
        "    elapsed_mins = int(elapsed_time / 60)\n",
        "    elapsed_secs = int(elapsed_time - (elapsed_mins * 60))\n",
        "    return elapsed_mins, elapsed_secs"
      ],
      "metadata": {
        "id": "cAbxHhQPFjeS"
      },
      "execution_count": 38,
      "outputs": []
    },
    {
      "cell_type": "code",
      "source": [
        "import time\n",
        "import math\n",
        "import matplotlib\n",
        "matplotlib.rcParams.update({'figure.figsize': (16, 12), 'font.size': 14})\n",
        "import matplotlib.pyplot as plt\n",
        "%matplotlib inline\n",
        "from IPython.display import clear_output\n",
        "\n",
        "train_history = []\n",
        "valid_history = []\n",
        "\n",
        "N_EPOCHS = 2\n",
        "CLIP = 1.0\n",
        "\n",
        "best_valid_loss = float('inf')\n",
        "\n",
        "for epoch in range(N_EPOCHS):\n",
        "\n",
        "    start_time = time.time()\n",
        "\n",
        "    train_loss = train(model, train_iterator, optimizer, criterion, CLIP, train_history, valid_history)\n",
        "    valid_loss = evaluate(model, valid_iterator, criterion)\n",
        "\n",
        "    end_time = time.time()\n",
        "\n",
        "    epoch_mins, epoch_secs = epoch_time(start_time, end_time)\n",
        "\n",
        "    if valid_loss < best_valid_loss:\n",
        "        best_valid_loss = valid_loss\n",
        "        torch.save(model.state_dict(), 'best-val-model.pt')\n",
        "\n",
        "    train_history.append(train_loss)\n",
        "    valid_history.append(valid_loss)\n",
        "    print(f'Epoch: {epoch+1:02} | Time: {epoch_mins}m {epoch_secs}s')\n",
        "    print(f'\\tTrain Loss: {train_loss:.3f} | Train PPL: {math.exp(train_loss):7.3f}')\n",
        "    print(f'\\t Val. Loss: {valid_loss:.3f} |  Val. PPL: {math.exp(valid_loss):7.3f}')"
      ],
      "metadata": {
        "id": "BPsyf7IUFk4g",
        "outputId": "6a5e7a57-6b32-4b7e-bcac-67e31c60ede1",
        "colab": {
          "base_uri": "https://localhost:8080/",
          "height": 784
        }
      },
      "execution_count": 45,
      "outputs": [
        {
          "output_type": "display_data",
          "data": {
            "text/plain": [
              "<Figure size 1200x800 with 2 Axes>"
            ],
            "image/png": "[encoded data removed]"
          },
          "metadata": {}
        },
        {
          "output_type": "stream",
          "name": "stdout",
          "text": [
            "Epoch: 02 | Time: 4m 50s\n",
            "\tTrain Loss: 0.085 | Train PPL:   1.089\n",
            "\t Val. Loss: 0.101 |  Val. PPL:   1.106\n"
          ]
        }
      ]
    },
    {
      "cell_type": "markdown",
      "source": [
        "### Применение модели\n",
        " **(1 балл)**"
      ],
      "metadata": {
        "id": "OmlLPHb6Fm6Y"
      }
    },
    {
      "cell_type": "code",
      "source": [
        "def accuracy_model(model, iterator):\n",
        "    model.eval()\n",
        "\n",
        "    true_pred = 0\n",
        "    num_pred = 0\n",
        "\n",
        "    with torch.no_grad():\n",
        "        for i, batch in enumerate(iterator):\n",
        "\n",
        "            words = batch.words\n",
        "            tags = batch.tags\n",
        "\n",
        "            output = model(words)\n",
        "\n",
        "            #output = [sent len, batch size, output dim]\n",
        "            # Выбираем для каждого слова индекс тэга с максимальной вероятностью\n",
        "            output = output.argmax(dim=-1)\n",
        "\n",
        "            #output = [sent len, batch size]\n",
        "            predict_tags = output.cpu().numpy()\n",
        "            true_tags = tags.cpu().numpy()\n",
        "\n",
        "            true_pred += np.sum((true_tags == predict_tags) & (true_tags != PAD_IDX))\n",
        "            num_pred += np.prod(true_tags.shape) - (true_tags == PAD_IDX).sum()\n",
        "\n",
        "    return round(true_pred / num_pred * 100, 3)"
      ],
      "metadata": {
        "id": "M0VRk8_kFoS-"
      },
      "execution_count": 48,
      "outputs": []
    },
    {
      "cell_type": "code",
      "source": [
        "print(\"Accuracy:\", accuracy_model(model, test_iterator), '%')"
      ],
      "metadata": {
        "id": "xq9_6i7nFqAM",
        "colab": {
          "base_uri": "https://localhost:8080/"
        },
        "outputId": "48ee1e30-8ef0-431b-8b23-82deb2ebe456"
      },
      "execution_count": 49,
      "outputs": [
        {
          "output_type": "stream",
          "name": "stdout",
          "text": [
            "Accuracy: 95.97 %\n"
          ]
        }
      ]
    },
    {
      "cell_type": "markdown",
      "source": [
        "Вы можете улучшить качество, изменяя параметры модели. Вам неоходимо добиться качества не меньше, чем `accuracy = 92 %`."
      ],
      "metadata": {
        "id": "8KhMmyBdFrf4"
      }
    },
    {
      "cell_type": "code",
      "source": [
        "best_model = LSTMTagger(INPUT_DIM, EMB_DIM, HID_DIM, OUTPUT_DIM, DROPOUT).to(device)\n",
        "best_model.load_state_dict(torch.load('best-val-model.pt'))\n",
        "assert accuracy_model(best_model, test_iterator) >= 92"
      ],
      "metadata": {
        "id": "k78T1TqOFtd5"
      },
      "execution_count": 50,
      "outputs": []
    },
    {
      "cell_type": "markdown",
      "source": [
        "### **Если качество сети меньше 92 процентов, то снимается половина от всех полученных баллов .<br> То есть максимум в этом случае 5 баллов за работу.**\n",
        "\n",
        "\n"
      ],
      "metadata": {
        "id": "vixhQ0YJFs8T"
      }
    },
    {
      "cell_type": "markdown",
      "source": [
        "Пример решение нашей задачи:"
      ],
      "metadata": {
        "id": "I6yW3ezIFxDi"
      }
    },
    {
      "cell_type": "code",
      "source": [
        "def print_tags(model, data):\n",
        "    model.eval()\n",
        "\n",
        "    with torch.no_grad():\n",
        "        words, _ = data\n",
        "        example = torch.LongTensor([WORD.vocab.stoi[elem] for elem in words]).unsqueeze(1).to(device)\n",
        "\n",
        "        output = model(example).argmax(dim=-1).cpu().numpy()\n",
        "        tags = [TAG.vocab.itos[int(elem)] for elem in output]\n",
        "\n",
        "        for token, tag in zip(words, tags):\n",
        "            print(f'{token:15s}{tag}')"
      ],
      "metadata": {
        "id": "1I8ncP6YFyGR"
      },
      "execution_count": 51,
      "outputs": []
    },
    {
      "cell_type": "code",
      "source": [
        "print_tags(model, pos_data[-1])"
      ],
      "metadata": {
        "id": "ap6kVnKNF0DT",
        "colab": {
          "base_uri": "https://localhost:8080/"
        },
        "outputId": "91fcb142-ccb0-443c-baff-615c83ad9159"
      },
      "execution_count": 52,
      "outputs": [
        {
          "output_type": "stream",
          "name": "stdout",
          "text": [
            "From           NOUN\n",
            "what           DET\n",
            "I              VERB\n",
            "was            VERB\n",
            "able           ADJ\n",
            "to             PRT\n",
            "gauge          NOUN\n",
            "in             ADP\n",
            "a              DET\n",
            "swift          ADJ\n",
            ",              .\n",
            "greedy         ADJ\n",
            "glance         NOUN\n",
            ",              .\n",
            "the            DET\n",
            "figure         NOUN\n",
            "inside         ADV\n",
            "the            DET\n",
            "coral-colored  ADJ\n",
            "boucle         NOUN\n",
            "dress          NOUN\n",
            "was            VERB\n",
            "stupefying     VERB\n",
            ".              .\n"
          ]
        }
      ]
    },
    {
      "cell_type": "markdown",
      "source": [
        "## Вывод:\n",
        "**(0.5 балл)**"
      ],
      "metadata": {
        "id": "t-ENYq8LF1h0"
      }
    }
  ]
}